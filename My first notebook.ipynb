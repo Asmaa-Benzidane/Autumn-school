{
 "cells": [
  {
   "cell_type": "code",
   "execution_count": null,
   "id": "cbdda4fb-085a-48f4-8f76-e52e92592456",
   "metadata": {},
   "outputs": [],
   "source": [
    "from numbers import Number\n",
    "def add(a: Number, b: Number) -> Number:\n",
    " return a+b"
   ]
  }
 ],
 "metadata": {
  "kernelspec": {
   "display_name": "Python 3 (ipykernel)",
   "language": "python",
   "name": "python3"
  },
  "language_info": {
   "codemirror_mode": {
    "name": "ipython",
    "version": 3
   },
   "file_extension": ".py",
   "mimetype": "text/x-python",
   "name": "python",
   "nbconvert_exporter": "python",
   "pygments_lexer": "ipython3",
   "version": "3.11.10"
  }
 },
 "nbformat": 4,
 "nbformat_minor": 5
}
